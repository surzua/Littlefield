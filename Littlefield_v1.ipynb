{
 "cells": [
  {
   "cell_type": "code",
   "execution_count": 1,
   "metadata": {},
   "outputs": [
    {
     "ename": "TypeError",
     "evalue": "expected string or bytes-like object",
     "output_type": "error",
     "traceback": [
      "\u001b[1;31m---------------------------------------------------------------------------\u001b[0m",
      "\u001b[1;31mTypeError\u001b[0m                                 Traceback (most recent call last)",
      "\u001b[1;32md:\\Documentos\\OneDrive - Universidad de Chile\\MBA\\IN75R-1 Gestión de Operaciones I\\Littlefield\\Littlefield_v1.ipynb Cell 1\u001b[0m line \u001b[0;36m3\n\u001b[0;32m      <a href='vscode-notebook-cell:/d%3A/Documentos/OneDrive%20-%20Universidad%20de%20Chile/MBA/IN75R-1%20Gesti%C3%B3n%20de%20Operaciones%20I/Littlefield/Littlefield_v1.ipynb#W0sZmlsZQ%3D%3D?line=0'>1</a>\u001b[0m \u001b[39mfrom\u001b[39;00m \u001b[39mlittlefield\u001b[39;00m \u001b[39mimport\u001b[39;00m Littlefield\n\u001b[1;32m----> <a href='vscode-notebook-cell:/d%3A/Documentos/OneDrive%20-%20Universidad%20de%20Chile/MBA/IN75R-1%20Gesti%C3%B3n%20de%20Operaciones%20I/Littlefield/Littlefield_v1.ipynb#W0sZmlsZQ%3D%3D?line=2'>3</a>\u001b[0m lf \u001b[39m=\u001b[39m Littlefield(\u001b[39m'\u001b[39;49m\u001b[39morbitcraft\u001b[39;49m\u001b[39m'\u001b[39;49m, \u001b[39m'\u001b[39;49m\u001b[39mmbauch23\u001b[39;49m\u001b[39m'\u001b[39;49m)\n",
      "File \u001b[1;32md:\\Python\\lib\\site-packages\\littlefield\\__init__.py:115\u001b[0m, in \u001b[0;36mLittlefield.__init__\u001b[1;34m(self, team_id, password)\u001b[0m\n\u001b[0;32m    113\u001b[0m     \u001b[39mself\u001b[39m\u001b[39m.\u001b[39mteam_id \u001b[39m=\u001b[39m team_id\n\u001b[0;32m    114\u001b[0m     \u001b[39mself\u001b[39m\u001b[39m.\u001b[39mpassword \u001b[39m=\u001b[39m password\n\u001b[1;32m--> 115\u001b[0m \u001b[39mself\u001b[39m\u001b[39m.\u001b[39msession_id \u001b[39m=\u001b[39m \u001b[39mself\u001b[39;49m\u001b[39m.\u001b[39;49m_get_session_id()\n\u001b[0;32m    117\u001b[0m \u001b[39mself\u001b[39m\u001b[39m.\u001b[39morders \u001b[39m=\u001b[39m Orders(\u001b[39mself\u001b[39m)\n\u001b[0;32m    118\u001b[0m \u001b[39mself\u001b[39m\u001b[39m.\u001b[39mmaterials \u001b[39m=\u001b[39m Materials(\u001b[39mself\u001b[39m)\n",
      "File \u001b[1;32md:\\Python\\lib\\site-packages\\littlefield\\__init__.py:138\u001b[0m, in \u001b[0;36mLittlefield._get_session_id\u001b[1;34m(self)\u001b[0m\n\u001b[0;32m    136\u001b[0m r \u001b[39m=\u001b[39m requests\u001b[39m.\u001b[39mpost(\u001b[39m'\u001b[39m\u001b[39mhttp://op.responsive.net/Littlefield/CheckAccess\u001b[39m\u001b[39m'\u001b[39m, headers\u001b[39m=\u001b[39mheaders, data\u001b[39m=\u001b[39mpayload)\n\u001b[0;32m    137\u001b[0m cookie \u001b[39m=\u001b[39m r\u001b[39m.\u001b[39mheaders\u001b[39m.\u001b[39mget(\u001b[39m'\u001b[39m\u001b[39mSet-Cookie\u001b[39m\u001b[39m'\u001b[39m)\n\u001b[1;32m--> 138\u001b[0m m \u001b[39m=\u001b[39m session_id_regex\u001b[39m.\u001b[39;49msearch(cookie)\n\u001b[0;32m    139\u001b[0m \u001b[39mif\u001b[39;00m m \u001b[39mis\u001b[39;00m \u001b[39mNone\u001b[39;00m:\n\u001b[0;32m    140\u001b[0m     \u001b[39mraise\u001b[39;00m \u001b[39mRuntimeError\u001b[39;00m(r\u001b[39m.\u001b[39mtext)\n",
      "\u001b[1;31mTypeError\u001b[0m: expected string or bytes-like object"
     ]
    }
   ],
   "source": [
    "from littlefield import Littlefield\n",
    "lf = Littlefield('orbitcraft', 'mbauch23')\n"
   ]
  },
  {
   "cell_type": "code",
   "execution_count": 12,
   "metadata": {},
   "outputs": [
    {
     "ename": "TypeError",
     "evalue": "expected string or bytes-like object",
     "output_type": "error",
     "traceback": [
      "\u001b[1;31m---------------------------------------------------------------------------\u001b[0m",
      "\u001b[1;31mTypeError\u001b[0m                                 Traceback (most recent call last)",
      "\u001b[1;32md:\\Documentos\\OneDrive - Universidad de Chile\\MBA\\IN75R-1 Gestión de Operaciones I\\Littlefield\\Littlefield_v1.ipynb Cell 2\u001b[0m line \u001b[0;36m9\n\u001b[0;32m      <a href='vscode-notebook-cell:/d%3A/Documentos/OneDrive%20-%20Universidad%20de%20Chile/MBA/IN75R-1%20Gesti%C3%B3n%20de%20Operaciones%20I/Littlefield/Littlefield_v1.ipynb#W1sZmlsZQ%3D%3D?line=6'>7</a>\u001b[0m cookie \u001b[39m=\u001b[39m r\u001b[39m.\u001b[39mheaders\u001b[39m.\u001b[39mget(\u001b[39m'\u001b[39m\u001b[39mSet-Cookie\u001b[39m\u001b[39m'\u001b[39m)\n\u001b[0;32m      <a href='vscode-notebook-cell:/d%3A/Documentos/OneDrive%20-%20Universidad%20de%20Chile/MBA/IN75R-1%20Gesti%C3%B3n%20de%20Operaciones%20I/Littlefield/Littlefield_v1.ipynb#W1sZmlsZQ%3D%3D?line=7'>8</a>\u001b[0m session_id_regex \u001b[39m=\u001b[39m re\u001b[39m.\u001b[39mcompile(\u001b[39m'\u001b[39m\u001b[39mJSESSIONID=(\u001b[39m\u001b[39m\\\u001b[39m\u001b[39mw+);\u001b[39m\u001b[39m'\u001b[39m)\n\u001b[1;32m----> <a href='vscode-notebook-cell:/d%3A/Documentos/OneDrive%20-%20Universidad%20de%20Chile/MBA/IN75R-1%20Gesti%C3%B3n%20de%20Operaciones%20I/Littlefield/Littlefield_v1.ipynb#W1sZmlsZQ%3D%3D?line=8'>9</a>\u001b[0m m \u001b[39m=\u001b[39m session_id_regex\u001b[39m.\u001b[39;49msearch(cookie)\n",
      "\u001b[1;31mTypeError\u001b[0m: expected string or bytes-like object"
     ]
    }
   ],
   "source": [
    "import requests, re\n",
    "team_id = 'orbitcraft'\n",
    "password = 'mbauch23'\n",
    "headers = {'User-Agent': ''}\n",
    "payload = {'institution': 'sharma', 'ismobile': 'false', 'id': team_id, 'password': password}\n",
    "r = requests.post('http://op.responsive.net/Littlefield/CheckAccess', headers=headers, data=payload) \n",
    "#https://op.responsive.net/lt/thraves/entry.html\n",
    "cookie = r.headers.get('Set-Cookie')\n",
    "session_id_regex = re.compile('JSESSIONID=(\\w+);')\n",
    "m = session_id_regex.search(cookie)"
   ]
  },
  {
   "cell_type": "code",
   "execution_count": 8,
   "metadata": {},
   "outputs": [
    {
     "name": "stdout",
     "output_type": "stream",
     "text": [
      "{'Server': 'GlassFish Server Open Source Edition  4.1.2 ', 'X-Powered-By': 'Servlet/3.1 JSP/2.3 (GlassFish Server Open Source Edition  4.1.2  Java/Oracle Corporation/1.8)', 'Cache-Control': 'no-cache, no-store, must-revalidate', 'Pragma': 'no-cache', 'Expires': 'Thu, 01 Jan 1970 00:00:00 GMT', 'Content-Type': 'text/html;charset=UTF-8', 'Date': 'Thu, 23 Nov 2023 00:08:14 GMT', 'Transfer-Encoding': 'chunked'}\n"
     ]
    }
   ],
   "source": [
    "print(r.headers)"
   ]
  },
  {
   "cell_type": "code",
   "execution_count": null,
   "metadata": {},
   "outputs": [],
   "source": []
  }
 ],
 "metadata": {
  "kernelspec": {
   "display_name": "Python 3",
   "language": "python",
   "name": "python3"
  },
  "language_info": {
   "codemirror_mode": {
    "name": "ipython",
    "version": 3
   },
   "file_extension": ".py",
   "mimetype": "text/x-python",
   "name": "python",
   "nbconvert_exporter": "python",
   "pygments_lexer": "ipython3",
   "version": "3.9.13"
  }
 },
 "nbformat": 4,
 "nbformat_minor": 2
}
